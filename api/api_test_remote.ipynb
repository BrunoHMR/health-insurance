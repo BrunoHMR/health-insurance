{
 "cells": [
  {
   "cell_type": "code",
   "execution_count": null,
   "id": "c178725a",
   "metadata": {},
   "outputs": [],
   "source": [
    "import pandas as pd\n",
    "import numpy  as np\n",
    "from flask import Flask, request, Response\n",
    "import requests\n",
    "\n",
    "d1 = pd.read_csv('\\\\Users\\\\micro\\\\Desktop\\\\repos\\\\3_ciclo_intermediario\\\\7_health_insurance_cross_sell\\\\data\\\\test.csv')"
   ]
  },
  {
   "cell_type": "code",
   "execution_count": null,
   "id": "ac178e06",
   "metadata": {},
   "outputs": [],
   "source": [
    "# converte o dataframe em json para fazer a comunicação entre os sistemas\n",
    "data = json.dumps(d1.to_dict(orient = 'records'))"
   ]
  },
  {
   "cell_type": "code",
   "execution_count": null,
   "id": "23b19606",
   "metadata": {},
   "outputs": [],
   "source": [
    "# chamada em API\n",
    "url = 'https://health-insurance-api-5z78.onrender.com/healthinsurance/predict'\n",
    "header = {'Content-type': 'application/json'} \n",
    "data = data"
   ]
  },
  {
   "cell_type": "code",
   "execution_count": null,
   "id": "baa5c6c1",
   "metadata": {},
   "outputs": [],
   "source": [
    "r = requests.post(url, data = data, headers = header) # post: precisa enviar algum dado para requerir\n",
    "print('Status Code {}'.format(r.status_code)) # para ver se a requisição é válida ou não "
   ]
  },
  {
   "cell_type": "code",
   "execution_count": null,
   "id": "0f55320b",
   "metadata": {},
   "outputs": [],
   "source": [
    "# pega o json da requisição e converte em dataframe\n",
    "d2 = pd.DataFrame(r.json(), columns = r.json()[0].keys())\n",
    "\n",
    "# ordenando a base de acordo com a propensão de compra de cada cliente\n",
    "d2.sort_values('score', ascending = False).head()"
   ]
  },
  {
   "cell_type": "code",
   "execution_count": null,
   "id": "244f1123",
   "metadata": {},
   "outputs": [],
   "source": [
    "# gerando um csv com os 2000 clientes mais propensos a comprar o seguro, ordenados do mais propenso ao menos propenso\n",
    "d2 = d2.head(2000)\n",
    "d2.to_csv('predictions.csv', index = False) "
   ]
  }
 ],
 "metadata": {
  "hide_input": false,
  "kernelspec": {
   "display_name": "Python 3 (ipykernel)",
   "language": "python",
   "name": "python3"
  },
  "language_info": {
   "codemirror_mode": {
    "name": "ipython",
    "version": 3
   },
   "file_extension": ".py",
   "mimetype": "text/x-python",
   "name": "python",
   "nbconvert_exporter": "python",
   "pygments_lexer": "ipython3",
   "version": "3.9.16"
  }
 },
 "nbformat": 4,
 "nbformat_minor": 5
}
