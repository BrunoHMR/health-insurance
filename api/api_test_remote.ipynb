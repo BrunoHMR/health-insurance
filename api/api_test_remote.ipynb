{
 "cells": [
  {
   "cell_type": "code",
   "execution_count": 1,
   "id": "4cb765aa",
   "metadata": {
    "ExecuteTime": {
     "end_time": "2023-06-23T18:15:08.832168Z",
     "start_time": "2023-06-23T18:14:55.361297Z"
    }
   },
   "outputs": [],
   "source": [
    "import pandas as pd\n",
    "import numpy  as np\n",
    "from flask import Flask, request, Response\n",
    "import requests\n",
    "\n",
    "d1 = pd.read_csv('\\\\Users\\\\micro\\\\Desktop\\\\repos\\\\3_ciclo_intermediario\\\\7_health_insurance_cross_sell\\\\data\\\\test.csv')"
   ]
  },
  {
   "cell_type": "code",
   "execution_count": 2,
   "id": "91b212c3",
   "metadata": {
    "ExecuteTime": {
     "end_time": "2023-06-23T18:15:12.529459Z",
     "start_time": "2023-06-23T18:15:10.857463Z"
    }
   },
   "outputs": [],
   "source": [
    "# converte o dataframe em json para fazer a comunicação entre os sistemas\n",
    "data = json.dumps(d1.to_dict(orient = 'records'))"
   ]
  },
  {
   "cell_type": "code",
   "execution_count": 3,
   "id": "9b52a96a",
   "metadata": {
    "ExecuteTime": {
     "end_time": "2023-06-23T18:15:51.506427Z",
     "start_time": "2023-06-23T18:15:51.494427Z"
    }
   },
   "outputs": [],
   "source": [
    "# chamada em API\n",
    "url = 'https://health-insurance-api-omlh.onrender.com/healthinsurance/predict'\n",
    "header = {'Content-type': 'application/json'} \n",
    "data = data"
   ]
  },
  {
   "cell_type": "code",
   "execution_count": 4,
   "id": "56fcf230",
   "metadata": {
    "ExecuteTime": {
     "end_time": "2023-06-23T18:16:05.772818Z",
     "start_time": "2023-06-23T18:15:53.621425Z"
    }
   },
   "outputs": [
    {
     "name": "stdout",
     "output_type": "stream",
     "text": [
      "Status Code 500\n"
     ]
    }
   ],
   "source": [
    "r = requests.post(url, data = data, headers = header) # post: precisa enviar algum dado para requerir\n",
    "print('Status Code {}'.format(r.status_code)) # para ver se a requisição é válida ou não "
   ]
  },
  {
   "cell_type": "code",
   "execution_count": null,
   "id": "d52e8661",
   "metadata": {},
   "outputs": [],
   "source": [
    "# pega o json da requisição e converte em dataframe\n",
    "d2 = pd.DataFrame(r.json(), columns = r.json()[0].keys())\n",
    "\n",
    "# ordenando a base de acordo com a propensão de compra de cada cliente\n",
    "d2.sort_values('score', ascending = False).head()"
   ]
  },
  {
   "cell_type": "code",
   "execution_count": null,
   "id": "4969f047",
   "metadata": {},
   "outputs": [],
   "source": [
    "# gerando um csv com os 2000 clientes mais propensos a comprar o seguro, ordenados do mais propenso ao menos propenso\n",
    "d2 = d2.head(2000)\n",
    "d2.to_csv('predictions.csv', index = False) "
   ]
  }
 ],
 "metadata": {
  "hide_input": false,
  "kernelspec": {
   "display_name": "Python 3 (ipykernel)",
   "language": "python",
   "name": "python3"
  },
  "language_info": {
   "codemirror_mode": {
    "name": "ipython",
    "version": 3
   },
   "file_extension": ".py",
   "mimetype": "text/x-python",
   "name": "python",
   "nbconvert_exporter": "python",
   "pygments_lexer": "ipython3",
   "version": "3.9.16"
  }
 },
 "nbformat": 4,
 "nbformat_minor": 5
}
