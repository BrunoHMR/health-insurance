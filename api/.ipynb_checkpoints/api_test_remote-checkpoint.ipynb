{
 "cells": [
  {
   "cell_type": "code",
   "execution_count": 1,
   "id": "42e6677e",
   "metadata": {
    "ExecuteTime": {
     "end_time": "2023-06-24T05:42:25.801339Z",
     "start_time": "2023-06-24T05:42:24.796328Z"
    }
   },
   "outputs": [],
   "source": [
    "import pandas as pd\n",
    "import numpy  as np\n",
    "from flask import Flask, request, Response\n",
    "import requests\n",
    "\n",
    "d1 = pd.read_csv('\\\\Users\\\\micro\\\\Desktop\\\\repos\\\\3_ciclo_intermediario\\\\7_health_insurance_cross_sell\\\\data\\\\test.csv')"
   ]
  },
  {
   "cell_type": "code",
   "execution_count": 2,
   "id": "6098492d",
   "metadata": {
    "ExecuteTime": {
     "end_time": "2023-06-24T05:42:41.341874Z",
     "start_time": "2023-06-24T05:42:27.217877Z"
    }
   },
   "outputs": [],
   "source": [
    "# converte o dataframe em json para fazer a comunicação entre os sistemas\n",
    "data = json.dumps(d1.to_dict(orient = 'records'))"
   ]
  },
  {
   "cell_type": "code",
   "execution_count": 3,
   "id": "e197934e",
   "metadata": {
    "ExecuteTime": {
     "end_time": "2023-06-24T05:42:42.908321Z",
     "start_time": "2023-06-24T05:42:42.902326Z"
    }
   },
   "outputs": [],
   "source": [
    "# chamada em API\n",
    "url = 'https://health-insurance-api-omlh.onrender.com/healthinsurance/predict'\n",
    "header = {'Content-type': 'application/json'} \n",
    "data = data"
   ]
  },
  {
   "cell_type": "code",
   "execution_count": 4,
   "id": "25c7671d",
   "metadata": {
    "ExecuteTime": {
     "end_time": "2023-06-24T05:43:05.015210Z",
     "start_time": "2023-06-24T05:42:45.074693Z"
    }
   },
   "outputs": [
    {
     "name": "stdout",
     "output_type": "stream",
     "text": [
      "Status Code 200\n"
     ]
    }
   ],
   "source": [
    "r = requests.post(url, data = data, headers = header) # post: precisa enviar algum dado para requerir\n",
    "print('Status Code {}'.format(r.status_code)) # para ver se a requisição é válida ou não "
   ]
  },
  {
   "cell_type": "code",
   "execution_count": 5,
   "id": "f16fe2e3",
   "metadata": {
    "ExecuteTime": {
     "end_time": "2023-06-24T05:43:15.963273Z",
     "start_time": "2023-06-24T05:43:14.210253Z"
    }
   },
   "outputs": [
    {
     "data": {
      "text/html": [
       "<div>\n",
       "<style scoped>\n",
       "    .dataframe tbody tr th:only-of-type {\n",
       "        vertical-align: middle;\n",
       "    }\n",
       "\n",
       "    .dataframe tbody tr th {\n",
       "        vertical-align: top;\n",
       "    }\n",
       "\n",
       "    .dataframe thead th {\n",
       "        text-align: right;\n",
       "    }\n",
       "</style>\n",
       "<table border=\"1\" class=\"dataframe\">\n",
       "  <thead>\n",
       "    <tr style=\"text-align: right;\">\n",
       "      <th></th>\n",
       "      <th>id</th>\n",
       "      <th>gender</th>\n",
       "      <th>age</th>\n",
       "      <th>driving_license</th>\n",
       "      <th>region_code</th>\n",
       "      <th>previously_insured</th>\n",
       "      <th>vehicle_age</th>\n",
       "      <th>vehicle_damage</th>\n",
       "      <th>annual_premium</th>\n",
       "      <th>policy_sales_channel</th>\n",
       "      <th>vintage</th>\n",
       "      <th>score</th>\n",
       "    </tr>\n",
       "  </thead>\n",
       "  <tbody>\n",
       "    <tr>\n",
       "      <th>85537</th>\n",
       "      <td>466647</td>\n",
       "      <td>1</td>\n",
       "      <td>0.292308</td>\n",
       "      <td>1</td>\n",
       "      <td>0.109796</td>\n",
       "      <td>0</td>\n",
       "      <td>2</td>\n",
       "      <td>1</td>\n",
       "      <td>4.537404</td>\n",
       "      <td>0.209638</td>\n",
       "      <td>0.557093</td>\n",
       "      <td>0.912945</td>\n",
       "    </tr>\n",
       "    <tr>\n",
       "      <th>97810</th>\n",
       "      <td>478920</td>\n",
       "      <td>0</td>\n",
       "      <td>0.369231</td>\n",
       "      <td>1</td>\n",
       "      <td>0.186579</td>\n",
       "      <td>0</td>\n",
       "      <td>3</td>\n",
       "      <td>1</td>\n",
       "      <td>4.556111</td>\n",
       "      <td>0.209638</td>\n",
       "      <td>0.089965</td>\n",
       "      <td>0.909880</td>\n",
       "    </tr>\n",
       "    <tr>\n",
       "      <th>1887</th>\n",
       "      <td>382997</td>\n",
       "      <td>1</td>\n",
       "      <td>0.446154</td>\n",
       "      <td>1</td>\n",
       "      <td>0.186579</td>\n",
       "      <td>0</td>\n",
       "      <td>2</td>\n",
       "      <td>1</td>\n",
       "      <td>4.395831</td>\n",
       "      <td>0.209638</td>\n",
       "      <td>0.031142</td>\n",
       "      <td>0.902773</td>\n",
       "    </tr>\n",
       "    <tr>\n",
       "      <th>101703</th>\n",
       "      <td>482813</td>\n",
       "      <td>0</td>\n",
       "      <td>0.384615</td>\n",
       "      <td>1</td>\n",
       "      <td>0.137931</td>\n",
       "      <td>0</td>\n",
       "      <td>2</td>\n",
       "      <td>1</td>\n",
       "      <td>4.487715</td>\n",
       "      <td>0.209638</td>\n",
       "      <td>0.809689</td>\n",
       "      <td>0.901796</td>\n",
       "    </tr>\n",
       "    <tr>\n",
       "      <th>6833</th>\n",
       "      <td>387943</td>\n",
       "      <td>1</td>\n",
       "      <td>0.384615</td>\n",
       "      <td>1</td>\n",
       "      <td>0.109796</td>\n",
       "      <td>0</td>\n",
       "      <td>2</td>\n",
       "      <td>1</td>\n",
       "      <td>-0.324554</td>\n",
       "      <td>0.001991</td>\n",
       "      <td>0.000000</td>\n",
       "      <td>0.901366</td>\n",
       "    </tr>\n",
       "  </tbody>\n",
       "</table>\n",
       "</div>"
      ],
      "text/plain": [
       "            id  gender       age  driving_license  region_code  \\\n",
       "85537   466647       1  0.292308                1     0.109796   \n",
       "97810   478920       0  0.369231                1     0.186579   \n",
       "1887    382997       1  0.446154                1     0.186579   \n",
       "101703  482813       0  0.384615                1     0.137931   \n",
       "6833    387943       1  0.384615                1     0.109796   \n",
       "\n",
       "        previously_insured  vehicle_age  vehicle_damage  annual_premium  \\\n",
       "85537                    0            2               1        4.537404   \n",
       "97810                    0            3               1        4.556111   \n",
       "1887                     0            2               1        4.395831   \n",
       "101703                   0            2               1        4.487715   \n",
       "6833                     0            2               1       -0.324554   \n",
       "\n",
       "        policy_sales_channel   vintage     score  \n",
       "85537               0.209638  0.557093  0.912945  \n",
       "97810               0.209638  0.089965  0.909880  \n",
       "1887                0.209638  0.031142  0.902773  \n",
       "101703              0.209638  0.809689  0.901796  \n",
       "6833                0.001991  0.000000  0.901366  "
      ]
     },
     "execution_count": 5,
     "metadata": {},
     "output_type": "execute_result"
    }
   ],
   "source": [
    "# pega o json da requisição e converte em dataframe\n",
    "d2 = pd.DataFrame(r.json(), columns = r.json()[0].keys())\n",
    "\n",
    "# ordenando a base de acordo com a propensão de compra de cada cliente\n",
    "d2.sort_values('score', ascending = False).head()"
   ]
  },
  {
   "cell_type": "code",
   "execution_count": 6,
   "id": "43c43127",
   "metadata": {
    "ExecuteTime": {
     "end_time": "2023-06-24T05:43:22.064763Z",
     "start_time": "2023-06-24T05:43:22.017751Z"
    }
   },
   "outputs": [],
   "source": [
    "# gerando um csv com os 2000 clientes mais propensos a comprar o seguro, ordenados do mais propenso ao menos propenso\n",
    "d2 = d2.head(2000)\n",
    "d2.to_csv('predictions.csv', index = False) "
   ]
  },
  {
   "cell_type": "code",
   "execution_count": null,
   "id": "c908312a",
   "metadata": {},
   "outputs": [],
   "source": []
  }
 ],
 "metadata": {
  "hide_input": false,
  "kernelspec": {
   "display_name": "Python 3 (ipykernel)",
   "language": "python",
   "name": "python3"
  },
  "language_info": {
   "codemirror_mode": {
    "name": "ipython",
    "version": 3
   },
   "file_extension": ".py",
   "mimetype": "text/x-python",
   "name": "python",
   "nbconvert_exporter": "python",
   "pygments_lexer": "ipython3",
   "version": "3.9.16"
  }
 },
 "nbformat": 4,
 "nbformat_minor": 5
}
