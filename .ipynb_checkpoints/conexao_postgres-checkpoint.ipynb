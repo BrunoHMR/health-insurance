{
 "cells": [
  {
   "cell_type": "code",
   "execution_count": 2,
   "id": "0e4c7bb1",
   "metadata": {
    "ExecuteTime": {
     "end_time": "2023-05-23T20:14:19.037676Z",
     "start_time": "2023-05-23T20:14:18.874767Z"
    }
   },
   "outputs": [],
   "source": [
    "import psycopg2 as pg\n",
    "import pandas as pd\n",
    "import pandas.io.sql as psql\n",
    "# biblioteca apenas para o banco Postgres.\n",
    "# instalar o psycopg2-binary (via terminal)."
   ]
  },
  {
   "cell_type": "code",
   "execution_count": null,
   "id": "61807e18",
   "metadata": {},
   "outputs": [],
   "source": [
    "# credentials\n",
    "# carregar apenas a máscara para esconder as credenciais do acesso público\n",
    "host = {'host'}\n",
    "port = 5432\n",
    "database = {'database'}\n",
    "user = {'user'}\n",
    "pwd = {'pwd'}"
   ]
  },
  {
   "cell_type": "code",
   "execution_count": null,
   "id": "10edf485",
   "metadata": {},
   "outputs": [],
   "source": [
    "conn = pg.connect(user = user, password = pwd, port = port, database = database)"
   ]
  },
  {
   "cell_type": "markdown",
   "id": "6c19ebfb",
   "metadata": {},
   "source": [
    "## 1.0 Query Schemas"
   ]
  },
  {
   "cell_type": "code",
   "execution_count": null,
   "id": "d0faea61",
   "metadata": {},
   "outputs": [],
   "source": [
    "cursor = conn.cursor()\n",
    "\n",
    "query_schema = \"\"\"\n",
    "    SELECT nspname\n",
    "    FROM pg_catalog.pg_namespace\n",
    "\"\"\"\n",
    "\n",
    "cursor.execute(query_schema) # ponteiro: não trás os dados"
   ]
  },
  {
   "cell_type": "code",
   "execution_count": null,
   "id": "2e91ab25",
   "metadata": {},
   "outputs": [],
   "source": [
    "cursor.fetchall() # trás os os dados"
   ]
  },
  {
   "cell_type": "code",
   "execution_count": null,
   "id": "52c60b07",
   "metadata": {},
   "outputs": [],
   "source": [
    "record # lista de tuple mostrando os schemas"
   ]
  },
  {
   "cell_type": "code",
   "execution_count": null,
   "id": "9de322b0",
   "metadata": {},
   "outputs": [],
   "source": [
    "cursor.close()\n",
    "conn.close()"
   ]
  },
  {
   "cell_type": "markdown",
   "id": "5906217e",
   "metadata": {},
   "source": [
    "## 2.0 Query Tables"
   ]
  },
  {
   "cell_type": "code",
   "execution_count": null,
   "id": "6c74b998",
   "metadata": {},
   "outputs": [],
   "source": [
    "# antes de fazer a query, precisa rodar novamente o terceiro snippet, pois a conexão foi fechada\n",
    "cursor = conn.cursor()\n",
    "\n",
    "query_tables = \"\"\"\n",
    "    SELECT tablename\n",
    "    FROM pg_tables\n",
    "    WHERE schemaname = 'pa004'\n",
    "\"\"\"\n",
    "\n",
    "cursor.execute(query_tables) # ponteiro: não trás os dados"
   ]
  },
  {
   "cell_type": "code",
   "execution_count": null,
   "id": "c39c41a6",
   "metadata": {},
   "outputs": [],
   "source": [
    "cursor.fetchall() # trás os os dados"
   ]
  },
  {
   "cell_type": "code",
   "execution_count": null,
   "id": "5dae086b",
   "metadata": {},
   "outputs": [],
   "source": [
    "record # lista de tuple mostrando os schemas"
   ]
  },
  {
   "cell_type": "code",
   "execution_count": null,
   "id": "7ebfc276",
   "metadata": {},
   "outputs": [],
   "source": [
    "cursor.close()\n",
    "conn.close()"
   ]
  },
  {
   "cell_type": "markdown",
   "id": "17973266",
   "metadata": {},
   "source": [
    "## 3.0 Coletando os dados usando o Psycopg"
   ]
  },
  {
   "cell_type": "code",
   "execution_count": null,
   "id": "7153d889",
   "metadata": {},
   "outputs": [],
   "source": [
    "# antes de fazer a query, precisa rodar novamente o terceiro snippet, pois a conexão foi fechada\n",
    "cursor = conn.cursor()\n",
    "\n",
    "query_tables_users = \"\"\"\n",
    "    SELECT *\n",
    "    FROM pa004.users u\n",
    "    WHERE u.age > 44\n",
    "    LIMIT 10\n",
    "\"\"\"\n",
    "\n",
    "cursor.execute(query_tables_users) # ponteiro: não trás os dados"
   ]
  },
  {
   "cell_type": "code",
   "execution_count": null,
   "id": "776018b9",
   "metadata": {},
   "outputs": [],
   "source": [
    "cursor.fetchall() # trás os os dados"
   ]
  },
  {
   "cell_type": "code",
   "execution_count": null,
   "id": "1db204df",
   "metadata": {},
   "outputs": [],
   "source": [
    "record # lista de tuple mostrando os schemas"
   ]
  },
  {
   "cell_type": "code",
   "execution_count": null,
   "id": "35ffae32",
   "metadata": {},
   "outputs": [],
   "source": [
    "cursor.close()\n",
    "conn.close()"
   ]
  },
  {
   "cell_type": "code",
   "execution_count": null,
   "id": "9847df46",
   "metadata": {},
   "outputs": [],
   "source": [
    "data = pd.DataFrame(record)\n",
    "data.head()"
   ]
  },
  {
   "cell_type": "markdown",
   "id": "3e71b2b8",
   "metadata": {},
   "source": [
    "## 4.0 Coletando os dados usando o Pandas"
   ]
  },
  {
   "cell_type": "code",
   "execution_count": null,
   "id": "099f28f2",
   "metadata": {},
   "outputs": [],
   "source": [
    "# antes de fazer a query, precisa rodar novamente o terceiro snippet, pois a conexão foi fechada\n",
    "query_tables_users = \"\"\"\n",
    "    SELECT *\n",
    "    FROM pa004.users u LEFT JOIN pa004.vehicle v ON (u.id = v.id)\n",
    "                       LEFT JOIN pa004.insurance i ON (u.id = i.id)\n",
    "    WHERE u.age > 44\n",
    "          AND date > '2019-01-01' AND date < '2020-01-01'\n",
    "\"\"\"\n",
    "\n",
    "df = psql.read_sql(query_tables_users, conn)\n",
    "df.head()"
   ]
  },
  {
   "cell_type": "code",
   "execution_count": null,
   "id": "8db7ce0e",
   "metadata": {},
   "outputs": [],
   "source": [
    "df1 = psql.read_sql(query_tables_users, conn)\n",
    "df1.drop(df1.columns[5, 9], axis = 1)\n",
    "df1.head()"
   ]
  }
 ],
 "metadata": {
  "hide_input": false,
  "kernelspec": {
   "display_name": "Python 3 (ipykernel)",
   "language": "python",
   "name": "python3"
  },
  "language_info": {
   "codemirror_mode": {
    "name": "ipython",
    "version": 3
   },
   "file_extension": ".py",
   "mimetype": "text/x-python",
   "name": "python",
   "nbconvert_exporter": "python",
   "pygments_lexer": "ipython3",
   "version": "3.9.16"
  }
 },
 "nbformat": 4,
 "nbformat_minor": 5
}
